{
 "cells": [
  {
   "cell_type": "code",
   "execution_count": 1,
   "id": "da946827",
   "metadata": {},
   "outputs": [],
   "source": [
    "from PIL import Image\n",
    "import sys \n",
    "# change for your path to slidebook's stuff\n",
    "sys.path.insert(0, 'Python/Format7')\n",
    "\n",
    "from SBReadFile import *\n",
    "\n",
    "from matplotlib import pyplot as plt\n",
    "import numpy as np\n",
    "import napari\n",
    "\n",
    "from dask import delayed\n",
    "import dask.array as da"
   ]
  },
  {
   "cell_type": "code",
   "execution_count": 2,
   "id": "7d08c734",
   "metadata": {},
   "outputs": [
    {
     "name": "stdout",
     "output_type": "stream",
     "text": [
      "LoadMetadata: ReadSld result:  True\n",
      "CImageGroup: Load\n",
      "LoadImageRecord: result  True\n",
      "CImageGroup::LoadChannelRecord error\n",
      "LoadChannelRecord: result  True\n",
      "LoadMaks: result  True\n",
      "LoadAnnotations: result  True\n",
      "LoadElapsedTimes: result  True\n",
      "LoadSAPositions: result  True\n",
      "LoadStagePosition: result  True\n",
      "LoadAuxData: result  True\n",
      "LoadMetadata: theImageGroupIndex:  0  Load:  result:  True\n",
      "ReadPlane: thePlaneSize:  32768\n",
      "ReadPlane: theSeekOffset:  80\n"
     ]
    }
   ],
   "source": [
    "theSBFileReader = SBReadFile()\n",
    "\n",
    "# change for your image file\n",
    "theSBFileReader.Open(\"sldy/128x_128y_5z_94t.sldy\")\n",
    "\n",
    "image = theSBFileReader.ReadImagePlaneBuf(0,0,0,0,0,True) #captureid,position,timepoint,zplane,channel,as 2d"
   ]
  },
  {
   "cell_type": "code",
   "execution_count": 3,
   "id": "5c8d78c2",
   "metadata": {},
   "outputs": [
    {
     "name": "stdout",
     "output_type": "stream",
     "text": [
      "ReadPlane: thePlaneSize:  32768\n",
      "ReadPlane: theSeekOffset:  80\n"
     ]
    }
   ],
   "source": [
    "def read_image_plane(capture=0, position=0, timepoint=0, zplane=0, channel=0, as_2d=True):\n",
    "    return theSBFileReader.ReadImagePlaneBuf(capture, position, timepoint, zplane, channel, as_2d)\n",
    "\n",
    "# read the first file to get the shape and dtype\n",
    "# ASSUMES THAT ALL FILES SHARE THE SAME SHAPE/TYPE\n",
    "sample = read_image_plane()\n",
    "\n",
    "# true is 2D or not\n",
    "capture = 0\n",
    "zSize=theSBFileReader.GetNumZPlanes(capture)\n",
    "cSize=theSBFileReader.GetNumChannels(capture)\n",
    "tSize=theSBFileReader.GetNumTimepoints(capture)\n",
    "\n",
    "lazy_imread = delayed(read_image_plane)  # lazy reader\n"
   ]
  },
  {
   "cell_type": "code",
   "execution_count": 4,
   "id": "c42145cc",
   "metadata": {},
   "outputs": [],
   "source": [
    "lazy_arrays = [[lazy_imread(0,0,t,i,0,True) for i in range(zSize)] for t in range(tSize)]"
   ]
  },
  {
   "cell_type": "code",
   "execution_count": 6,
   "id": "708576e3",
   "metadata": {},
   "outputs": [],
   "source": [
    "dask_arrays = [\n",
    "    [da.from_delayed(delayed_reader, shape=sample.shape, dtype=sample.dtype)\n",
    "    for delayed_reader in lazy_arrays[t]] for t in range(tSize)\n",
    "]"
   ]
  },
  {
   "cell_type": "code",
   "execution_count": 7,
   "id": "a41a8d01",
   "metadata": {},
   "outputs": [
    {
     "name": "stdout",
     "output_type": "stream",
     "text": [
      "(94, 5, 128, 128)\n"
     ]
    },
    {
     "data": {
      "text/html": [
       "<table>\n",
       "    <tr>\n",
       "        <td>\n",
       "            <table>\n",
       "                <thead>\n",
       "                    <tr>\n",
       "                        <td> </td>\n",
       "                        <th> Array </th>\n",
       "                        <th> Chunk </th>\n",
       "                    </tr>\n",
       "                </thead>\n",
       "                <tbody>\n",
       "                    \n",
       "                    <tr>\n",
       "                        <th> Bytes </th>\n",
       "                        <td> 14.69 MiB </td>\n",
       "                        <td> 32.00 kiB </td>\n",
       "                    </tr>\n",
       "                    \n",
       "                    <tr>\n",
       "                        <th> Shape </th>\n",
       "                        <td> (94, 5, 128, 128) </td>\n",
       "                        <td> (1, 1, 128, 128) </td>\n",
       "                    </tr>\n",
       "                    <tr>\n",
       "                        <th> Count </th>\n",
       "                        <td> 1880 Tasks </td>\n",
       "                        <td> 470 Chunks </td>\n",
       "                    </tr>\n",
       "                    <tr>\n",
       "                    <th> Type </th>\n",
       "                    <td> uint16 </td>\n",
       "                    <td> numpy.ndarray </td>\n",
       "                    </tr>\n",
       "                </tbody>\n",
       "            </table>\n",
       "        </td>\n",
       "        <td>\n",
       "        <svg width=\"505\" height=\"189\" style=\"stroke:rgb(0,0,0);stroke-width:1\" >\n",
       "\n",
       "  <!-- Horizontal lines -->\n",
       "  <line x1=\"0\" y1=\"0\" x2=\"88\" y2=\"0\" style=\"stroke-width:2\" />\n",
       "  <line x1=\"0\" y1=\"25\" x2=\"88\" y2=\"25\" style=\"stroke-width:2\" />\n",
       "\n",
       "  <!-- Vertical lines -->\n",
       "  <line x1=\"0\" y1=\"0\" x2=\"0\" y2=\"25\" style=\"stroke-width:2\" />\n",
       "  <line x1=\"1\" y1=\"0\" x2=\"1\" y2=\"25\" />\n",
       "  <line x1=\"4\" y1=\"0\" x2=\"4\" y2=\"25\" />\n",
       "  <line x1=\"7\" y1=\"0\" x2=\"7\" y2=\"25\" />\n",
       "  <line x1=\"10\" y1=\"0\" x2=\"10\" y2=\"25\" />\n",
       "  <line x1=\"13\" y1=\"0\" x2=\"13\" y2=\"25\" />\n",
       "  <line x1=\"15\" y1=\"0\" x2=\"15\" y2=\"25\" />\n",
       "  <line x1=\"18\" y1=\"0\" x2=\"18\" y2=\"25\" />\n",
       "  <line x1=\"21\" y1=\"0\" x2=\"21\" y2=\"25\" />\n",
       "  <line x1=\"24\" y1=\"0\" x2=\"24\" y2=\"25\" />\n",
       "  <line x1=\"27\" y1=\"0\" x2=\"27\" y2=\"25\" />\n",
       "  <line x1=\"30\" y1=\"0\" x2=\"30\" y2=\"25\" />\n",
       "  <line x1=\"32\" y1=\"0\" x2=\"32\" y2=\"25\" />\n",
       "  <line x1=\"35\" y1=\"0\" x2=\"35\" y2=\"25\" />\n",
       "  <line x1=\"38\" y1=\"0\" x2=\"38\" y2=\"25\" />\n",
       "  <line x1=\"41\" y1=\"0\" x2=\"41\" y2=\"25\" />\n",
       "  <line x1=\"44\" y1=\"0\" x2=\"44\" y2=\"25\" />\n",
       "  <line x1=\"45\" y1=\"0\" x2=\"45\" y2=\"25\" />\n",
       "  <line x1=\"48\" y1=\"0\" x2=\"48\" y2=\"25\" />\n",
       "  <line x1=\"51\" y1=\"0\" x2=\"51\" y2=\"25\" />\n",
       "  <line x1=\"54\" y1=\"0\" x2=\"54\" y2=\"25\" />\n",
       "  <line x1=\"57\" y1=\"0\" x2=\"57\" y2=\"25\" />\n",
       "  <line x1=\"60\" y1=\"0\" x2=\"60\" y2=\"25\" />\n",
       "  <line x1=\"62\" y1=\"0\" x2=\"62\" y2=\"25\" />\n",
       "  <line x1=\"65\" y1=\"0\" x2=\"65\" y2=\"25\" />\n",
       "  <line x1=\"68\" y1=\"0\" x2=\"68\" y2=\"25\" />\n",
       "  <line x1=\"71\" y1=\"0\" x2=\"71\" y2=\"25\" />\n",
       "  <line x1=\"74\" y1=\"0\" x2=\"74\" y2=\"25\" />\n",
       "  <line x1=\"76\" y1=\"0\" x2=\"76\" y2=\"25\" />\n",
       "  <line x1=\"79\" y1=\"0\" x2=\"79\" y2=\"25\" />\n",
       "  <line x1=\"82\" y1=\"0\" x2=\"82\" y2=\"25\" />\n",
       "  <line x1=\"85\" y1=\"0\" x2=\"85\" y2=\"25\" />\n",
       "  <line x1=\"88\" y1=\"0\" x2=\"88\" y2=\"25\" style=\"stroke-width:2\" />\n",
       "\n",
       "  <!-- Colored Rectangle -->\n",
       "  <polygon points=\"0.0,0.0 88.125,0.0 88.125,25.412616514582485 0.0,25.412616514582485\" style=\"fill:#8B4903A0;stroke-width:0\"/>\n",
       "\n",
       "  <!-- Text -->\n",
       "  <text x=\"44.062500\" y=\"45.412617\" font-size=\"1.0rem\" font-weight=\"100\" text-anchor=\"middle\" >94</text>\n",
       "  <text x=\"108.125000\" y=\"12.706308\" font-size=\"1.0rem\" font-weight=\"100\" text-anchor=\"middle\" transform=\"rotate(0,108.125000,12.706308)\">1</text>\n",
       "\n",
       "\n",
       "  <!-- Horizontal lines -->\n",
       "  <line x1=\"158\" y1=\"0\" x2=\"177\" y2=\"19\" style=\"stroke-width:2\" />\n",
       "  <line x1=\"158\" y1=\"120\" x2=\"177\" y2=\"139\" style=\"stroke-width:2\" />\n",
       "\n",
       "  <!-- Vertical lines -->\n",
       "  <line x1=\"158\" y1=\"0\" x2=\"158\" y2=\"120\" style=\"stroke-width:2\" />\n",
       "  <line x1=\"161\" y1=\"3\" x2=\"161\" y2=\"123\" />\n",
       "  <line x1=\"165\" y1=\"7\" x2=\"165\" y2=\"127\" />\n",
       "  <line x1=\"169\" y1=\"11\" x2=\"169\" y2=\"131\" />\n",
       "  <line x1=\"173\" y1=\"15\" x2=\"173\" y2=\"135\" />\n",
       "  <line x1=\"177\" y1=\"19\" x2=\"177\" y2=\"139\" style=\"stroke-width:2\" />\n",
       "\n",
       "  <!-- Colored Rectangle -->\n",
       "  <polygon points=\"158.0,0.0 177.40524078182307,19.405240781823075 177.40524078182307,139.40524078182307 158.0,120.0\" style=\"fill:#ECB172A0;stroke-width:0\"/>\n",
       "\n",
       "  <!-- Horizontal lines -->\n",
       "  <line x1=\"158\" y1=\"0\" x2=\"278\" y2=\"0\" style=\"stroke-width:2\" />\n",
       "  <line x1=\"161\" y1=\"3\" x2=\"281\" y2=\"3\" />\n",
       "  <line x1=\"165\" y1=\"7\" x2=\"285\" y2=\"7\" />\n",
       "  <line x1=\"169\" y1=\"11\" x2=\"289\" y2=\"11\" />\n",
       "  <line x1=\"173\" y1=\"15\" x2=\"293\" y2=\"15\" />\n",
       "  <line x1=\"177\" y1=\"19\" x2=\"297\" y2=\"19\" style=\"stroke-width:2\" />\n",
       "\n",
       "  <!-- Vertical lines -->\n",
       "  <line x1=\"158\" y1=\"0\" x2=\"177\" y2=\"19\" style=\"stroke-width:2\" />\n",
       "  <line x1=\"278\" y1=\"0\" x2=\"297\" y2=\"19\" style=\"stroke-width:2\" />\n",
       "\n",
       "  <!-- Colored Rectangle -->\n",
       "  <polygon points=\"158.0,0.0 278.0,0.0 297.40524078182307,19.405240781823075 177.40524078182307,19.405240781823075\" style=\"fill:#ECB172A0;stroke-width:0\"/>\n",
       "\n",
       "  <!-- Horizontal lines -->\n",
       "  <line x1=\"177\" y1=\"19\" x2=\"297\" y2=\"19\" style=\"stroke-width:2\" />\n",
       "  <line x1=\"177\" y1=\"139\" x2=\"297\" y2=\"139\" style=\"stroke-width:2\" />\n",
       "\n",
       "  <!-- Vertical lines -->\n",
       "  <line x1=\"177\" y1=\"19\" x2=\"177\" y2=\"139\" style=\"stroke-width:2\" />\n",
       "  <line x1=\"297\" y1=\"19\" x2=\"297\" y2=\"139\" style=\"stroke-width:2\" />\n",
       "\n",
       "  <!-- Colored Rectangle -->\n",
       "  <polygon points=\"177.40524078182307,19.405240781823075 297.40524078182307,19.405240781823075 297.40524078182307,139.40524078182307 177.40524078182307,139.40524078182307\" style=\"fill:#ECB172A0;stroke-width:0\"/>\n",
       "\n",
       "  <!-- Text -->\n",
       "  <text x=\"237.405241\" y=\"159.405241\" font-size=\"1.0rem\" font-weight=\"100\" text-anchor=\"middle\" >128</text>\n",
       "  <text x=\"317.405241\" y=\"79.405241\" font-size=\"1.0rem\" font-weight=\"100\" text-anchor=\"middle\" transform=\"rotate(-90,317.405241,79.405241)\">128</text>\n",
       "  <text x=\"157.702620\" y=\"149.702620\" font-size=\"1.0rem\" font-weight=\"100\" text-anchor=\"middle\" transform=\"rotate(45,157.702620,149.702620)\">5</text>\n",
       "</svg>\n",
       "        </td>\n",
       "    </tr>\n",
       "</table>"
      ],
      "text/plain": [
       "dask.array<stack, shape=(94, 5, 128, 128), dtype=uint16, chunksize=(1, 1, 128, 128), chunktype=numpy.ndarray>"
      ]
     },
     "execution_count": 7,
     "metadata": {},
     "output_type": "execute_result"
    }
   ],
   "source": [
    "stack = da.stack(dask_arrays)\n",
    "print(stack.shape)\n",
    "# in jupyter notebook the repr of a dask stack provides a useful visual:\n",
    "stack"
   ]
  },
  {
   "cell_type": "code",
   "execution_count": 8,
   "id": "6e29a903",
   "metadata": {},
   "outputs": [
    {
     "name": "stderr",
     "output_type": "stream",
     "text": [
      "/home/laura/miniconda3/envs/sldy/lib/python3.9/site-packages/napari/_qt/__init__.py:54: UserWarning: \n",
      "\n",
      "napari was tested with QT library `>=5.12.3`.\n",
      "The version installed is 5.9.7. Please report any issues with\n",
      "this specific QT version at https://github.com/Napari/napari/issues.\n",
      "  warn(message=warn_message)\n"
     ]
    },
    {
     "name": "stdout",
     "output_type": "stream",
     "text": [
      "ReadPlane: thePlaneSize:  32768\n",
      "ReadPlane: theSeekOffset:  80\n"
     ]
    },
    {
     "data": {
      "text/plain": [
       "Viewer(axes=Axes(visible=False, labels=True, colored=True, dashed=False, arrows=True), camera=Camera(center=(0.0, 63.5, 63.5), zoom=3.45859375, angles=(0.0, 0.0, 90.0), perspective=0.0, interactive=True), cursor=Cursor(position=(1.0, 1.0, 0.0, 0.0), scaled=True, size=1, style=<CursorStyle.STANDARD: 'standard'>), dims=Dims(ndim=4, ndisplay=2, last_used=3, range=((0.0, 94.0, 1.0), (0.0, 5.0, 1.0), (0.0, 128.0, 1.0), (0.0, 128.0, 1.0)), current_step=(0, 0, 0, 0), order=(0, 1, 2, 3), axis_labels=('0', '1', '2', '3')), grid=GridCanvas(stride=1, shape=(-1, -1), enabled=False), layers=[<Image layer 'stack' at 0x7fd482d55760>], scale_bar=ScaleBar(visible=False, colored=False, ticks=True, position=<Position.BOTTOM_RIGHT: 'bottom_right'>, font_size=10.0, unit=None), text_overlay=TextOverlay(visible=False, color=array([0.5, 0.5, 0.5, 1. ]), font_size=10.0, position=<TextOverlayPosition.TOP_LEFT: 'top_left'>, text=''), help='', status='Ready', tooltip=Tooltip(visible=False, text=''), theme='dark', title='napari', mouse_move_callbacks=[], mouse_drag_callbacks=[], mouse_double_click_callbacks=[], mouse_wheel_callbacks=[<function dims_scroll at 0x7fd48d09a430>], _persisted_mouse_event={}, _mouse_drag_gen={}, _mouse_wheel_gen={}, keymap={'Control-Shift-C': <bound method QtViewer.toggle_console_visibility of <napari._qt.qt_viewer.QtViewer object at 0x7fd48b7d3e50>>})"
      ]
     },
     "execution_count": 8,
     "metadata": {},
     "output_type": "execute_result"
    },
    {
     "name": "stderr",
     "output_type": "stream",
     "text": [
      "ERROR:tornado.general:Uncaught exception in ZMQStream callback\n",
      "Traceback (most recent call last):\n",
      "  File \"/home/laura/miniconda3/envs/sldy/lib/python3.9/site-packages/zmq/eventloop/zmqstream.py\", line 431, in _run_callback\n",
      "    callback(*args, **kwargs)\n",
      "  File \"/home/laura/miniconda3/envs/sldy/lib/python3.9/site-packages/jupyter_client/threaded.py\", line 121, in _handle_recv\n",
      "    msg_list = self.ioloop._asyncio_event_loop.run_until_complete(get_msg(future_msg))\n",
      "  File \"/home/laura/miniconda3/envs/sldy/lib/python3.9/asyncio/base_events.py\", line 618, in run_until_complete\n",
      "    self._check_running()\n",
      "  File \"/home/laura/miniconda3/envs/sldy/lib/python3.9/asyncio/base_events.py\", line 580, in _check_running\n",
      "    raise RuntimeError(\n",
      "RuntimeError: Cannot run the event loop while another loop is running\n",
      "ERROR:tornado.general:Uncaught exception in zmqstream callback\n",
      "Traceback (most recent call last):\n",
      "  File \"/home/laura/miniconda3/envs/sldy/lib/python3.9/site-packages/zmq/eventloop/zmqstream.py\", line 452, in _handle_events\n",
      "    self._handle_recv()\n",
      "  File \"/home/laura/miniconda3/envs/sldy/lib/python3.9/site-packages/zmq/eventloop/zmqstream.py\", line 481, in _handle_recv\n",
      "    self._run_callback(callback, msg)\n",
      "  File \"/home/laura/miniconda3/envs/sldy/lib/python3.9/site-packages/zmq/eventloop/zmqstream.py\", line 431, in _run_callback\n",
      "    callback(*args, **kwargs)\n",
      "  File \"/home/laura/miniconda3/envs/sldy/lib/python3.9/site-packages/jupyter_client/threaded.py\", line 121, in _handle_recv\n",
      "    msg_list = self.ioloop._asyncio_event_loop.run_until_complete(get_msg(future_msg))\n",
      "  File \"/home/laura/miniconda3/envs/sldy/lib/python3.9/asyncio/base_events.py\", line 618, in run_until_complete\n",
      "    self._check_running()\n",
      "  File \"/home/laura/miniconda3/envs/sldy/lib/python3.9/asyncio/base_events.py\", line 580, in _check_running\n",
      "    raise RuntimeError(\n",
      "RuntimeError: Cannot run the event loop while another loop is running\n",
      "Exception in callback BaseAsyncIOLoop._handle_events(85, 1)\n",
      "handle: <Handle BaseAsyncIOLoop._handle_events(85, 1)>\n",
      "Traceback (most recent call last):\n",
      "  File \"/home/laura/miniconda3/envs/sldy/lib/python3.9/asyncio/events.py\", line 80, in _run\n",
      "    self._context.run(self._callback, *self._args)\n",
      "  File \"/home/laura/miniconda3/envs/sldy/lib/python3.9/site-packages/tornado/platform/asyncio.py\", line 189, in _handle_events\n",
      "    handler_func(fileobj, events)\n",
      "  File \"/home/laura/miniconda3/envs/sldy/lib/python3.9/site-packages/zmq/eventloop/zmqstream.py\", line 452, in _handle_events\n",
      "    self._handle_recv()\n",
      "  File \"/home/laura/miniconda3/envs/sldy/lib/python3.9/site-packages/zmq/eventloop/zmqstream.py\", line 481, in _handle_recv\n",
      "    self._run_callback(callback, msg)\n",
      "  File \"/home/laura/miniconda3/envs/sldy/lib/python3.9/site-packages/zmq/eventloop/zmqstream.py\", line 431, in _run_callback\n",
      "    callback(*args, **kwargs)\n",
      "  File \"/home/laura/miniconda3/envs/sldy/lib/python3.9/site-packages/jupyter_client/threaded.py\", line 121, in _handle_recv\n",
      "    msg_list = self.ioloop._asyncio_event_loop.run_until_complete(get_msg(future_msg))\n",
      "  File \"/home/laura/miniconda3/envs/sldy/lib/python3.9/asyncio/base_events.py\", line 618, in run_until_complete\n",
      "    self._check_running()\n",
      "  File \"/home/laura/miniconda3/envs/sldy/lib/python3.9/asyncio/base_events.py\", line 580, in _check_running\n",
      "    raise RuntimeError(\n",
      "RuntimeError: Cannot run the event loop while another loop is running\n"
     ]
    }
   ],
   "source": [
    "napari.view_image(stack, contrast_limits=[0,255], multiscale=False)"
   ]
  },
  {
   "cell_type": "code",
   "execution_count": null,
   "id": "a0ad09a2",
   "metadata": {},
   "outputs": [],
   "source": []
  }
 ],
 "metadata": {
  "kernelspec": {
   "display_name": "Python 3",
   "language": "python",
   "name": "python3"
  },
  "language_info": {
   "codemirror_mode": {
    "name": "ipython",
    "version": 3
   },
   "file_extension": ".py",
   "mimetype": "text/x-python",
   "name": "python",
   "nbconvert_exporter": "python",
   "pygments_lexer": "ipython3",
   "version": "3.9.7"
  }
 },
 "nbformat": 4,
 "nbformat_minor": 5
}
