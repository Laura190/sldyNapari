{
 "cells": [
  {
   "cell_type": "code",
   "execution_count": null,
   "id": "da946827",
   "metadata": {},
   "outputs": [],
   "source": [
    "from PIL import Image\n",
    "import sys \n",
    "# change for your path to slidebook's stuff\n",
    "sys.path.insert(0, 'Python/Format7')\n",
    "\n",
    "from SBReadFile import *\n",
    "\n",
    "from matplotlib import pyplot as plt\n",
    "import numpy as np\n",
    "import napari\n",
    "\n",
    "from dask import delayed\n",
    "import dask.array as da"
   ]
  },
  {
   "cell_type": "code",
   "execution_count": null,
   "id": "7d08c734",
   "metadata": {},
   "outputs": [],
   "source": [
    "theSBFileReader = SBReadFile()\n",
    "\n",
    "# change for your image file\n",
    "theSBFileReader.Open(\"sldy/128x_128y_5z_94t.sldy\")"
   ]
  },
  {
   "cell_type": "code",
   "execution_count": null,
   "id": "5c8d78c2",
   "metadata": {},
   "outputs": [],
   "source": [
    "def read_image_plane(capture=0, position=0, timepoint=0, zplane=0, channel=0, as_2d=True):\n",
    "    return theSBFileReader.ReadImagePlaneBuf(capture, position, timepoint, zplane, channel, as_2d)\n",
    "\n",
    "# read the first file to get the shape and dtype\n",
    "# ASSUMES THAT ALL FILES SHARE THE SAME SHAPE/TYPE\n",
    "sample = read_image_plane()\n",
    "\n",
    "# true is 2D or not\n",
    "capture = 0\n",
    "zSize=theSBFileReader.GetNumZPlanes(capture)\n",
    "cSize=theSBFileReader.GetNumChannels(capture)\n",
    "tSize=theSBFileReader.GetNumTimepoints(capture)\n",
    "\n",
    "lazy_imread = delayed(read_image_plane)  # lazy reader"
   ]
  },
  {
   "cell_type": "code",
   "execution_count": null,
   "id": "e8f8b34e",
   "metadata": {},
   "outputs": [],
   "source": [
    "lazy_arrays = [[[lazy_imread(0,0,t,z,c,True) for z in range(zSize)] for t in range(tSize)] for c in range(cSize)]\n",
    "dask_arrays = [\n",
    "    [[da.from_delayed(delayed_reader, shape=sample.shape, dtype=sample.dtype)\n",
    "    for delayed_reader in lazy_arrays[c][t]] for t in range(tSize)] for c in range(cSize)\n",
    "]"
   ]
  },
  {
   "cell_type": "code",
   "execution_count": null,
   "id": "8e61c916",
   "metadata": {},
   "outputs": [],
   "source": [
    "stack = da.stack(dask_arrays)\n",
    "print(stack.shape)\n",
    "# in jupyter notebook the repr of a dask stack provides a useful visual:\n",
    "stack"
   ]
  },
  {
   "cell_type": "code",
   "execution_count": null,
   "id": "1a287c95",
   "metadata": {},
   "outputs": [],
   "source": [
    "napari.view_image(stack, channel_axis=0, contrast_limits=[0,255], multiscale=False)"
   ]
  },
  {
   "cell_type": "code",
   "execution_count": null,
   "id": "527b1f17",
   "metadata": {},
   "outputs": [],
   "source": []
  }
 ],
 "metadata": {
  "kernelspec": {
   "display_name": "Python 3",
   "language": "python",
   "name": "python3"
  },
  "language_info": {
   "codemirror_mode": {
    "name": "ipython",
    "version": 3
   },
   "file_extension": ".py",
   "mimetype": "text/x-python",
   "name": "python",
   "nbconvert_exporter": "python",
   "pygments_lexer": "ipython3",
   "version": "3.9.7"
  }
 },
 "nbformat": 4,
 "nbformat_minor": 5
}
